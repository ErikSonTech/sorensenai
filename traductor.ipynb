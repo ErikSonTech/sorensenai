{
 "cells": [
  {
   "cell_type": "code",
   "execution_count": null,
   "metadata": {},
   "outputs": [],
   "source": [
    "#OpenAI API KEY\n",
    "import os\n",
    "\n",
    "os.environ[\"OPENAI_API_KEY\"] = \"\""
   ]
  },
  {
   "cell_type": "code",
   "execution_count": 10,
   "metadata": {},
   "outputs": [
    {
     "name": "stdout",
     "output_type": "stream",
     "text": [
      "Ja tenim el futur, però un futur que ja és present, perquè hem de parlar de noves tecnologies, de la intel·ligència artificial i avui el nostre company, el Xavi Vinaixa, ve una mica filòsof, diria, no?\n"
     ]
    }
   ],
   "source": [
    "# Lectura de subtítols\n",
    "\n",
    "import pysubs2\n",
    "subs = pysubs2.load(\"subtitols_ca.srt\", encoding=\"utf-8\")\n",
    "\n",
    "print(subs[0].text)"
   ]
  },
  {
   "cell_type": "code",
   "execution_count": 11,
   "metadata": {},
   "outputs": [
    {
     "name": "stdout",
     "output_type": "stream",
     "text": [
      "The capital of Spain is Madrid.\n"
     ]
    }
   ],
   "source": [
    "# Crida a OpenAI\n",
    "\n",
    "from openai import OpenAI\n",
    "\n",
    "model = \"gpt-4o-mini\"\n",
    "\n",
    "system_prompt = \"You are a helpful assistant.\"\n",
    "prompt = \"What is the capital of Spain?\"\n",
    "\n",
    "client = OpenAI()\n",
    "\n",
    "result = client.chat.completions.create(\n",
    "        model=model,\n",
    "        messages=[\n",
    "            {\"role\": \"system\", \"content\": system_prompt},\n",
    "            {\"role\": \"user\", \"content\": prompt}]\n",
    ")\n",
    "\n",
    "print(result.choices[0].message.content)"
   ]
  }
 ],
 "metadata": {
  "kernelspec": {
   "display_name": "sorensenai",
   "language": "python",
   "name": "python3"
  },
  "language_info": {
   "codemirror_mode": {
    "name": "ipython",
    "version": 3
   },
   "file_extension": ".py",
   "mimetype": "text/x-python",
   "name": "python",
   "nbconvert_exporter": "python",
   "pygments_lexer": "ipython3",
   "version": "3.10.15"
  }
 },
 "nbformat": 4,
 "nbformat_minor": 2
}
